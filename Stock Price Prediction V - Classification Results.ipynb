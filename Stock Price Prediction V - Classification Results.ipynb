{
 "cells": [
  {
   "cell_type": "markdown",
   "metadata": {},
   "source": [
    "Now that our two classifiers are ready to predict which stock price will see a 5% increase tomorrow, let's test them!"
   ]
  },
  {
   "cell_type": "markdown",
   "metadata": {},
   "source": [
    "Something interesting to investigate is if the models can only predict price increase for stocks it has been trained with, or if they can generalize to all stocks as-is, without having to be re-trained on a dataset that would include each new stock's historical data."
   ]
  },
  {
   "cell_type": "code",
   "execution_count": 5,
   "metadata": {},
   "outputs": [
    {
     "name": "stdout",
     "output_type": "stream",
     "text": [
      "Requirement already satisfied: pandas in c:\\programdata\\miniconda3\\lib\\site-packages (from -r requirements.txt (line 1)) (1.0.5)\n",
      "Requirement already satisfied: numpy in c:\\programdata\\miniconda3\\lib\\site-packages (from -r requirements.txt (line 2)) (1.18.1)\n",
      "Requirement already satisfied: scikit-learn in c:\\programdata\\miniconda3\\lib\\site-packages (from -r requirements.txt (line 3)) (0.23.1)\n",
      "Requirement already satisfied: scikit-plot in c:\\programdata\\miniconda3\\lib\\site-packages (from -r requirements.txt (line 4)) (0.3.7)\n",
      "Requirement already satisfied: ta in c:\\programdata\\miniconda3\\lib\\site-packages (from -r requirements.txt (line 5)) (0.5.25)\n",
      "Requirement already satisfied: requests in c:\\programdata\\miniconda3\\lib\\site-packages (from -r requirements.txt (line 6)) (2.23.0)\n",
      "Requirement already satisfied: matplotlib in c:\\programdata\\miniconda3\\lib\\site-packages (from -r requirements.txt (line 7)) (3.1.3)\n",
      "Requirement already satisfied: seaborn in c:\\programdata\\miniconda3\\lib\\site-packages (from -r requirements.txt (line 8)) (0.10.1)\n",
      "Requirement already satisfied: python-dateutil>=2.6.1 in c:\\programdata\\miniconda3\\lib\\site-packages (from pandas->-r requirements.txt (line 1)) (2.8.1)\n",
      "Requirement already satisfied: pytz>=2017.2 in c:\\programdata\\miniconda3\\lib\\site-packages (from pandas->-r requirements.txt (line 1)) (2020.1)\n",
      "Requirement already satisfied: scipy>=0.19.1 in c:\\programdata\\miniconda3\\lib\\site-packages (from scikit-learn->-r requirements.txt (line 3)) (1.5.1)\n",
      "Requirement already satisfied: threadpoolctl>=2.0.0 in c:\\programdata\\miniconda3\\lib\\site-packages (from scikit-learn->-r requirements.txt (line 3)) (2.1.0)\n",
      "Requirement already satisfied: joblib>=0.11 in c:\\programdata\\miniconda3\\lib\\site-packages (from scikit-learn->-r requirements.txt (line 3)) (0.16.0)\n",
      "Requirement already satisfied: certifi>=2017.4.17 in c:\\programdata\\miniconda3\\lib\\site-packages (from requests->-r requirements.txt (line 6)) (2020.4.5.1)\n",
      "Requirement already satisfied: idna<3,>=2.5 in c:\\programdata\\miniconda3\\lib\\site-packages (from requests->-r requirements.txt (line 6)) (2.9)\n",
      "Requirement already satisfied: chardet<4,>=3.0.2 in c:\\programdata\\miniconda3\\lib\\site-packages (from requests->-r requirements.txt (line 6)) (3.0.4)\n",
      "Requirement already satisfied: urllib3!=1.25.0,!=1.25.1,<1.26,>=1.21.1 in c:\\programdata\\miniconda3\\lib\\site-packages (from requests->-r requirements.txt (line 6)) (1.25.8)\n",
      "Requirement already satisfied: pyparsing!=2.0.4,!=2.1.2,!=2.1.6,>=2.0.1 in c:\\programdata\\miniconda3\\lib\\site-packages (from matplotlib->-r requirements.txt (line 7)) (2.4.7)\n",
      "Requirement already satisfied: cycler>=0.10 in c:\\programdata\\miniconda3\\lib\\site-packages (from matplotlib->-r requirements.txt (line 7)) (0.10.0)\n",
      "Requirement already satisfied: kiwisolver>=1.0.1 in c:\\programdata\\miniconda3\\lib\\site-packages (from matplotlib->-r requirements.txt (line 7)) (1.2.0)\n",
      "Requirement already satisfied: six>=1.5 in c:\\programdata\\miniconda3\\lib\\site-packages (from python-dateutil>=2.6.1->pandas->-r requirements.txt (line 1)) (1.14.0)\n"
     ]
    }
   ],
   "source": [
    "!pip install -r requirements.txt"
   ]
  },
  {
   "cell_type": "code",
   "execution_count": 2,
   "metadata": {},
   "outputs": [],
   "source": [
    "import utils\n",
    "import pandas as pd\n",
    "import numpy as np\n",
    "import pickle\n",
    "from sklearn.ensemble import RandomForestClassifier\n",
    "from sklearn.neighbors import KNeighborsClassifier\n",
    "from sklearn.metrics import accuracy_score, precision_score, recall_score, fbeta_score\n",
    "from sklearn.preprocessing import MinMaxScaler"
   ]
  },
  {
   "cell_type": "code",
   "execution_count": 7,
   "metadata": {},
   "outputs": [],
   "source": [
    "# Load RF model\n",
    "rf_model = pickle.load(open('RF-clf.pickle', 'rb'))"
   ]
  },
  {
   "cell_type": "code",
   "execution_count": 8,
   "metadata": {},
   "outputs": [],
   "source": [
    "# Load KNN model\n",
    "kn_model = pickle.load(open('KNN-clf.pickle', 'rb'))"
   ]
  },
  {
   "cell_type": "code",
   "execution_count": 9,
   "metadata": {},
   "outputs": [],
   "source": [
    "# Load scaler\n",
    "X_scaler = pickle.load(open('x-scaler.pickle', 'rb'))"
   ]
  },
  {
   "cell_type": "markdown",
   "metadata": {},
   "source": [
    "Let's build a new test dataset, exclusively made of stocks absent from the initial training and testing sets:"
   ]
  },
  {
   "cell_type": "code",
   "execution_count": 10,
   "metadata": {},
   "outputs": [
    {
     "name": "stderr",
     "output_type": "stream",
     "text": [
      "C:\\ProgramData\\Miniconda3\\lib\\site-packages\\ta\\trend.py:608: RuntimeWarning: invalid value encountered in double_scalars\n",
      "  dip[i] = 100 * (self._dip[i]/self._trs[i])\n",
      "C:\\ProgramData\\Miniconda3\\lib\\site-packages\\ta\\trend.py:612: RuntimeWarning: invalid value encountered in double_scalars\n",
      "  din[i] = 100 * (self._din[i]/self._trs[i])\n"
     ]
    },
    {
     "name": "stdout",
     "output_type": "stream",
     "text": [
      "Done processing HO.PA! new X_df shape: (5279, 86), new y_df shape: (5279, 1)\n",
      "Done processing ALCAR.PA! new X_df shape: (7341, 86), new y_df shape: (7341, 1)\n",
      "Check number of NaNs in X_df: 0, and in y_df: 0\n",
      "New testing set contains 1.62% records labeled as 1\n"
     ]
    }
   ],
   "source": [
    "symbol_list = ['HO.PA', 'ALCAR.PA']\n",
    "\n",
    "X_df = pd.DataFrame()\n",
    "y_df = pd.DataFrame()\n",
    "\n",
    "for symbol in symbol_list:\n",
    "    symbol_X_df = utils.get_stock_feature_dataset(symbol)\n",
    "    symbol_X_df, symbol_y_df = utils.make_labels_dataset(symbol_X_df)\n",
    "\n",
    "    # reset index since dates are not required for classification\n",
    "    X_df = X_df.append(symbol_X_df.reset_index(drop=True), ignore_index=True)\n",
    "    y_df = y_df.append(symbol_y_df.reset_index(drop=True), ignore_index=True)\n",
    "    print('Done processing {}! new X_df shape: {}, new y_df shape: {}'.format(symbol, X_df.shape, y_df.shape))\n",
    "\n",
    "X_df = X_df.astype(float)\n",
    "X_df.replace(np.inf, np.nan, inplace=True)\n",
    "X_df.replace(-np.inf, np.nan, inplace=True)\n",
    "X_df.interpolate(axis=0, limit_direction='both', inplace=True)\n",
    "\n",
    "print('Check number of NaNs in X_df: {}, and in y_df: {}'.format(X_df.isna().sum().sum(), y_df.isna().sum().sum()))\n",
    "\n",
    "print('New testing set contains {:.2f}% records labeled as 1'.format(y_df.values.sum()/y_df.shape[0] * 100))\n",
    "\n",
    "# Scale all values to have the same range:\n",
    "X_scaled = X_scaler.transform(X_df.values)\n",
    "y_true = y_df.values.reshape(-1).astype(float)"
   ]
  },
  {
   "cell_type": "code",
   "execution_count": 17,
   "metadata": {},
   "outputs": [
    {
     "name": "stdout",
     "output_type": "stream",
     "text": [
      "Wall time: 1min 39s\n"
     ]
    }
   ],
   "source": [
    "%%time\n",
    "y_pred = kn_model.predict(X_scaled)"
   ]
  },
  {
   "cell_type": "code",
   "execution_count": 20,
   "metadata": {},
   "outputs": [
    {
     "name": "stdout",
     "output_type": "stream",
     "text": [
      "Results for KNN model:\n",
      "\taccuracy: 98.38%\n",
      "\tprecision: 50.00%\n",
      "\trecall: 0.84%\n",
      "\tfbeta: 0.039\n"
     ]
    }
   ],
   "source": [
    "print('Results for KNN model:')\n",
    "print('\\taccuracy: {:.2f}%'.format(accuracy_score(y_true, y_pred) * 100))\n",
    "print('\\tprecision: {:.2f}%'.format(precision_score(y_true, y_pred) * 100))\n",
    "print('\\trecall: {:.2f}%'.format(recall_score(y_true, y_pred) * 100))\n",
    "print('\\tfbeta: {:.3f}'.format(fbeta_score(y_true, y_pred, beta=0.5)))"
   ]
  },
  {
   "cell_type": "code",
   "execution_count": 21,
   "metadata": {},
   "outputs": [],
   "source": [
    "y_pred_rf = rf_model.predict(X_scaled)"
   ]
  },
  {
   "cell_type": "code",
   "execution_count": 22,
   "metadata": {},
   "outputs": [
    {
     "name": "stdout",
     "output_type": "stream",
     "text": [
      "Results for RF model:\n",
      "\taccuracy: 98.39%\n",
      "\tprecision: 100.00%\n",
      "\trecall: 0.84%\n",
      "\tfbeta: 0.041\n"
     ]
    }
   ],
   "source": [
    "print('Results for RF model:')\n",
    "print('\\taccuracy: {:.2f}%'.format(accuracy_score(y_true, y_pred_rf) * 100))\n",
    "print('\\tprecision: {:.2f}%'.format(precision_score(y_true, y_pred_rf) * 100))\n",
    "print('\\trecall: {:.2f}%'.format(recall_score(y_true, y_pred_rf) * 100))\n",
    "print('\\tfbeta: {:.3f}'.format(fbeta_score(y_true, y_pred_rf, beta=0.5)))"
   ]
  },
  {
   "cell_type": "markdown",
   "metadata": {},
   "source": [
    "It appears that both models perform poorly at predicting increase for stocks outside of their training set: indeed, KNN and RF both obtain a recall score close to 0%, and thus a very low fbeta score:\n",
    "- For the RF model, it means that it is very good at not producing false positives, but very bad at producing true positives\n",
    "- For the KNN model, it shows even worst performance: not very good at not producing false positives, and very bad at producing true positives!  \n",
    "\n",
    "Let's now check results obtained on stocks that KNN and RF models have been trained on, and see if their predictions were true. For this, I will make them predict for all of the stocks included in the training set, and check if there was an increase or not on the day after.\n",
    "\n",
    "I start by building the prediction set:"
   ]
  },
  {
   "cell_type": "code",
   "execution_count": 3,
   "metadata": {},
   "outputs": [],
   "source": [
    "with open('symbol-list.pickle', 'rb') as f:\n",
    "    symbol_list = pickle.load(f)"
   ]
  },
  {
   "cell_type": "code",
   "execution_count": 37,
   "metadata": {},
   "outputs": [
    {
     "name": "stdout",
     "output_type": "stream",
     "text": [
      "Done processing AI.PA! new pred_X shape: (1, 86)\n",
      "Done processing ETL.PA! new pred_X shape: (6, 86)\n",
      "Done processing ENGI.PA! new pred_X shape: (11, 86)\n",
      "Done processing UG.PA! new pred_X shape: (16, 86)\n",
      "Done processing CRI.PA! new pred_X shape: (21, 86)\n",
      "Done processing CA.PA! new pred_X shape: (26, 86)\n",
      "Done processing ORA.PA! new pred_X shape: (31, 86)\n",
      "Done processing GLE.PA! new pred_X shape: (36, 86)\n",
      "Done processing TEP.PA! new pred_X shape: (41, 86)\n",
      "Done processing EUCAR.PA! new pred_X shape: (46, 86)\n",
      "Done processing AMUN.PA! new pred_X shape: (51, 86)\n",
      "Done processing CGG.PA! new pred_X shape: (56, 86)\n",
      "Done processing ALHYG.PA! new pred_X shape: (61, 86)\n",
      "Done processing ALGBE.PA! new pred_X shape: (66, 86)\n",
      "Done processing ADP.PA! new pred_X shape: (71, 86)\n",
      "Done processing AKE.PA! new pred_X shape: (76, 86)\n",
      "Done processing DGM.PA! new pred_X shape: (81, 86)\n",
      "Done processing HSB.PA! new pred_X shape: (86, 86)\n",
      "Done processing NANO.PA! new pred_X shape: (91, 86)\n",
      "Done processing SBT.PA! new pred_X shape: (96, 86)\n",
      "Check number of NaNs in pred_X: 0\n"
     ]
    }
   ],
   "source": [
    "pred_X = pd.DataFrame()\n",
    "\n",
    "for count, symbol in enumerate(symbol_list):\n",
    "    # Download data for today, July 15th 2020. This day was not part of the training set.\n",
    "    X_df = utils.get_stock_feature_dataset(symbol, end=1594836000)\n",
    "    pred_X = pred_X.append(X_df.tail(1).reset_index(drop=True), ignore_index=True)\n",
    "\n",
    "    # print progress\n",
    "    if not count % 5:\n",
    "        print('Done processing {}! new pred_X shape: {}'.format(symbol, pred_X.shape))\n",
    "\n",
    "pred_X = pred_X.astype(float)\n",
    "pred_X.replace(np.inf, np.nan, inplace=True)\n",
    "pred_X.replace(-np.inf, np.nan, inplace=True)\n",
    "pred_X.interpolate(axis=0, limit_direction='both', inplace=True)\n",
    "\n",
    "print('Check number of NaNs in pred_X: {}'.format(X_df.isna().sum().sum()))\n",
    "\n",
    "# Scale all values to have the same range:\n",
    "pred_X_scaled = X_scaler.transform(pred_X.values)"
   ]
  },
  {
   "cell_type": "code",
   "execution_count": 38,
   "metadata": {},
   "outputs": [
    {
     "data": {
      "text/html": [
       "<div>\n",
       "<style scoped>\n",
       "    .dataframe tbody tr th:only-of-type {\n",
       "        vertical-align: middle;\n",
       "    }\n",
       "\n",
       "    .dataframe tbody tr th {\n",
       "        vertical-align: top;\n",
       "    }\n",
       "\n",
       "    .dataframe thead th {\n",
       "        text-align: right;\n",
       "    }\n",
       "</style>\n",
       "<table border=\"1\" class=\"dataframe\">\n",
       "  <thead>\n",
       "    <tr style=\"text-align: right;\">\n",
       "      <th></th>\n",
       "      <th>Open</th>\n",
       "      <th>High</th>\n",
       "      <th>Low</th>\n",
       "      <th>Close</th>\n",
       "      <th>Adj Close</th>\n",
       "      <th>Volume</th>\n",
       "      <th>volume_adi</th>\n",
       "      <th>volume_obv</th>\n",
       "      <th>volume_cmf</th>\n",
       "      <th>volume_fi</th>\n",
       "      <th>...</th>\n",
       "      <th>others_dlr</th>\n",
       "      <th>others_cr</th>\n",
       "      <th>cac40_Open</th>\n",
       "      <th>cac40_High</th>\n",
       "      <th>cac40_Low</th>\n",
       "      <th>cac40_Close</th>\n",
       "      <th>sbf120_Open</th>\n",
       "      <th>sbf120_High</th>\n",
       "      <th>sbf120_Low</th>\n",
       "      <th>sbf120_Close</th>\n",
       "    </tr>\n",
       "  </thead>\n",
       "  <tbody>\n",
       "    <tr>\n",
       "      <th>0</th>\n",
       "      <td>136.750000</td>\n",
       "      <td>139.250000</td>\n",
       "      <td>136.250000</td>\n",
       "      <td>137.500000</td>\n",
       "      <td>137.500000</td>\n",
       "      <td>1476815.0</td>\n",
       "      <td>2.283818e+08</td>\n",
       "      <td>257579609.0</td>\n",
       "      <td>0.135315</td>\n",
       "      <td>9.234091e+05</td>\n",
       "      <td>...</td>\n",
       "      <td>1.133677</td>\n",
       "      <td>292.164714</td>\n",
       "      <td>5045.919922</td>\n",
       "      <td>5145.330078</td>\n",
       "      <td>5039.189941</td>\n",
       "      <td>5108.97998</td>\n",
       "      <td>3648.330078</td>\n",
       "      <td>3648.330078</td>\n",
       "      <td>3648.330078</td>\n",
       "      <td>3648.330078</td>\n",
       "    </tr>\n",
       "    <tr>\n",
       "      <th>1</th>\n",
       "      <td>91.400002</td>\n",
       "      <td>96.639999</td>\n",
       "      <td>91.139999</td>\n",
       "      <td>95.720001</td>\n",
       "      <td>95.720001</td>\n",
       "      <td>1537193.0</td>\n",
       "      <td>1.913187e+08</td>\n",
       "      <td>229414094.0</td>\n",
       "      <td>-0.041574</td>\n",
       "      <td>1.230640e+06</td>\n",
       "      <td>...</td>\n",
       "      <td>6.451070</td>\n",
       "      <td>108.068857</td>\n",
       "      <td>5045.919922</td>\n",
       "      <td>5145.330078</td>\n",
       "      <td>5039.189941</td>\n",
       "      <td>5108.97998</td>\n",
       "      <td>3648.330078</td>\n",
       "      <td>3648.330078</td>\n",
       "      <td>3648.330078</td>\n",
       "      <td>3648.330078</td>\n",
       "    </tr>\n",
       "    <tr>\n",
       "      <th>2</th>\n",
       "      <td>4.540000</td>\n",
       "      <td>4.720000</td>\n",
       "      <td>4.468000</td>\n",
       "      <td>4.668000</td>\n",
       "      <td>4.668000</td>\n",
       "      <td>383016.0</td>\n",
       "      <td>-2.187174e+07</td>\n",
       "      <td>49431257.0</td>\n",
       "      <td>-0.438039</td>\n",
       "      <td>-3.349960e+04</td>\n",
       "      <td>...</td>\n",
       "      <td>3.399020</td>\n",
       "      <td>184.727898</td>\n",
       "      <td>5045.919922</td>\n",
       "      <td>5145.330078</td>\n",
       "      <td>5039.189941</td>\n",
       "      <td>5108.97998</td>\n",
       "      <td>3648.330078</td>\n",
       "      <td>3648.330078</td>\n",
       "      <td>3648.330078</td>\n",
       "      <td>3648.330078</td>\n",
       "    </tr>\n",
       "    <tr>\n",
       "      <th>3</th>\n",
       "      <td>2.850000</td>\n",
       "      <td>2.940000</td>\n",
       "      <td>2.810000</td>\n",
       "      <td>2.865000</td>\n",
       "      <td>2.865000</td>\n",
       "      <td>1054505.0</td>\n",
       "      <td>-3.836086e+07</td>\n",
       "      <td>471181671.0</td>\n",
       "      <td>-0.092290</td>\n",
       "      <td>2.008791e+04</td>\n",
       "      <td>...</td>\n",
       "      <td>2.652675</td>\n",
       "      <td>-67.068966</td>\n",
       "      <td>5045.919922</td>\n",
       "      <td>5145.330078</td>\n",
       "      <td>5039.189941</td>\n",
       "      <td>5108.97998</td>\n",
       "      <td>3648.330078</td>\n",
       "      <td>3648.330078</td>\n",
       "      <td>3648.330078</td>\n",
       "      <td>3648.330078</td>\n",
       "    </tr>\n",
       "    <tr>\n",
       "      <th>4</th>\n",
       "      <td>27.100000</td>\n",
       "      <td>27.940001</td>\n",
       "      <td>27.100000</td>\n",
       "      <td>27.780001</td>\n",
       "      <td>27.780001</td>\n",
       "      <td>265373.0</td>\n",
       "      <td>-1.837886e+07</td>\n",
       "      <td>25704185.0</td>\n",
       "      <td>-0.525870</td>\n",
       "      <td>-3.173246e+04</td>\n",
       "      <td>...</td>\n",
       "      <td>3.144687</td>\n",
       "      <td>22.378854</td>\n",
       "      <td>5045.919922</td>\n",
       "      <td>5145.330078</td>\n",
       "      <td>5039.189941</td>\n",
       "      <td>5108.97998</td>\n",
       "      <td>3648.330078</td>\n",
       "      <td>3648.330078</td>\n",
       "      <td>3648.330078</td>\n",
       "      <td>3648.330078</td>\n",
       "    </tr>\n",
       "  </tbody>\n",
       "</table>\n",
       "<p>5 rows × 86 columns</p>\n",
       "</div>"
      ],
      "text/plain": [
       "         Open        High         Low       Close   Adj Close     Volume  \\\n",
       "0  136.750000  139.250000  136.250000  137.500000  137.500000  1476815.0   \n",
       "1   91.400002   96.639999   91.139999   95.720001   95.720001  1537193.0   \n",
       "2    4.540000    4.720000    4.468000    4.668000    4.668000   383016.0   \n",
       "3    2.850000    2.940000    2.810000    2.865000    2.865000  1054505.0   \n",
       "4   27.100000   27.940001   27.100000   27.780001   27.780001   265373.0   \n",
       "\n",
       "     volume_adi   volume_obv  volume_cmf     volume_fi  ...  others_dlr  \\\n",
       "0  2.283818e+08  257579609.0    0.135315  9.234091e+05  ...    1.133677   \n",
       "1  1.913187e+08  229414094.0   -0.041574  1.230640e+06  ...    6.451070   \n",
       "2 -2.187174e+07   49431257.0   -0.438039 -3.349960e+04  ...    3.399020   \n",
       "3 -3.836086e+07  471181671.0   -0.092290  2.008791e+04  ...    2.652675   \n",
       "4 -1.837886e+07   25704185.0   -0.525870 -3.173246e+04  ...    3.144687   \n",
       "\n",
       "    others_cr   cac40_Open   cac40_High    cac40_Low  cac40_Close  \\\n",
       "0  292.164714  5045.919922  5145.330078  5039.189941   5108.97998   \n",
       "1  108.068857  5045.919922  5145.330078  5039.189941   5108.97998   \n",
       "2  184.727898  5045.919922  5145.330078  5039.189941   5108.97998   \n",
       "3  -67.068966  5045.919922  5145.330078  5039.189941   5108.97998   \n",
       "4   22.378854  5045.919922  5145.330078  5039.189941   5108.97998   \n",
       "\n",
       "   sbf120_Open  sbf120_High   sbf120_Low  sbf120_Close  \n",
       "0  3648.330078  3648.330078  3648.330078   3648.330078  \n",
       "1  3648.330078  3648.330078  3648.330078   3648.330078  \n",
       "2  3648.330078  3648.330078  3648.330078   3648.330078  \n",
       "3  3648.330078  3648.330078  3648.330078   3648.330078  \n",
       "4  3648.330078  3648.330078  3648.330078   3648.330078  \n",
       "\n",
       "[5 rows x 86 columns]"
      ]
     },
     "execution_count": 38,
     "metadata": {},
     "output_type": "execute_result"
    }
   ],
   "source": [
    "pred_X.head()"
   ]
  },
  {
   "cell_type": "code",
   "execution_count": 39,
   "metadata": {},
   "outputs": [],
   "source": [
    "# Perform predictions\n",
    "kn_pred_y = kn_model.predict(pred_X_scaled)\n",
    "rf_pred_y = rf_model.predict(pred_X_scaled)"
   ]
  },
  {
   "cell_type": "code",
   "execution_count": 40,
   "metadata": {},
   "outputs": [],
   "source": [
    "# Save KNN preds to a file\n",
    "outfile = open('KNN-preds.pickle', 'wb')\n",
    "np.save(outfile, kn_pred_y)\n",
    "outfile.close()\n",
    "\n",
    "# Same for RF predictions\n",
    "outfile = open('RF-preds.pickle', 'wb')\n",
    "np.save(outfile, rf_pred_y)\n",
    "outfile.close()"
   ]
  },
  {
   "cell_type": "markdown",
   "metadata": {},
   "source": [
    "Today is now July 16th 2020, market is closed, let's check yesterday's predictions:"
   ]
  },
  {
   "cell_type": "code",
   "execution_count": 54,
   "metadata": {},
   "outputs": [
    {
     "name": "stdout",
     "output_type": "stream",
     "text": [
      "Done processing AI.PA! new y_true shape: (1, 1)\n",
      "Done processing ETL.PA! new y_true shape: (6, 1)\n",
      "Done processing ENGI.PA! new y_true shape: (11, 1)\n",
      "Done processing UG.PA! new y_true shape: (16, 1)\n",
      "Done processing CRI.PA! new y_true shape: (21, 1)\n",
      "Done processing CA.PA! new y_true shape: (26, 1)\n",
      "Done processing ORA.PA! new y_true shape: (31, 1)\n",
      "Done processing GLE.PA! new y_true shape: (36, 1)\n",
      "Done processing TEP.PA! new y_true shape: (41, 1)\n",
      "Done processing EUCAR.PA! new y_true shape: (46, 1)\n",
      "Done processing AMUN.PA! new y_true shape: (51, 1)\n",
      "Done processing CGG.PA! new y_true shape: (56, 1)\n",
      "Done processing ALHYG.PA! new y_true shape: (61, 1)\n",
      "Done processing ALGBE.PA! new y_true shape: (66, 1)\n",
      "Done processing ADP.PA! new y_true shape: (71, 1)\n",
      "Done processing AKE.PA! new y_true shape: (76, 1)\n",
      "Done processing DGM.PA! new y_true shape: (81, 1)\n",
      "Done processing HSB.PA! new y_true shape: (86, 1)\n",
      "Done processing NANO.PA! new y_true shape: (91, 1)\n",
      "Done processing SBT.PA! new y_true shape: (96, 1)\n"
     ]
    }
   ],
   "source": [
    "# Construct the true target dataset:\n",
    "\n",
    "y_true = pd.DataFrame()\n",
    "\n",
    "for count, symbol in enumerate(symbol_list):\n",
    "    # Download data for July 15th pre-open and 16th post-close\n",
    "    X_df = utils.get_stock_feature_dataset(symbol, end=1594922400)\n",
    "    X_df, y_df = utils.make_labels_dataset(X_df)\n",
    "    y_true = y_true.append(y_df.tail(1).reset_index(drop=True), ignore_index=True)\n",
    "\n",
    "    # print progress\n",
    "    if not count % 5:\n",
    "        print('Done processing {}! new y_true shape: {}'.format(symbol, y_true.shape))\n",
    "\n",
    "y_true = y_true.values.reshape(-1).astype(float)"
   ]
  },
  {
   "cell_type": "code",
   "execution_count": 49,
   "metadata": {},
   "outputs": [],
   "source": [
    "# Load predictions made yesterday\n",
    "kn_pred_y = np.load(open('KNN-preds.pickle', 'rb'))\n",
    "rf_pred_y = np.load(open('RF-preds.pickle', 'rb'))"
   ]
  },
  {
   "cell_type": "code",
   "execution_count": 55,
   "metadata": {},
   "outputs": [
    {
     "name": "stdout",
     "output_type": "stream",
     "text": [
      "Results for KNN model:\n",
      "\taccuracy: 97.92%\n",
      "\tprecision: 0.00%\n",
      "\trecall: 0.00%\n",
      "\tfbeta: 0.000\n"
     ]
    },
    {
     "name": "stderr",
     "output_type": "stream",
     "text": [
      "C:\\ProgramData\\Miniconda3\\lib\\site-packages\\sklearn\\metrics\\_classification.py:1221: UndefinedMetricWarning: Precision is ill-defined and being set to 0.0 due to no predicted samples. Use `zero_division` parameter to control this behavior.\n",
      "  _warn_prf(average, modifier, msg_start, len(result))\n"
     ]
    }
   ],
   "source": [
    "print('Results for KNN model:')\n",
    "print('\\taccuracy: {:.2f}%'.format(accuracy_score(y_true, kn_pred_y) * 100))\n",
    "print('\\tprecision: {:.2f}%'.format(precision_score(y_true, kn_pred_y) * 100))\n",
    "print('\\trecall: {:.2f}%'.format(recall_score(y_true, kn_pred_y) * 100))\n",
    "print('\\tfbeta: {:.3f}'.format(fbeta_score(y_true, kn_pred_y, beta=0.5)))"
   ]
  },
  {
   "cell_type": "code",
   "execution_count": 56,
   "metadata": {},
   "outputs": [
    {
     "name": "stdout",
     "output_type": "stream",
     "text": [
      "Results for RF model:\n",
      "\taccuracy: 97.92%\n",
      "\tprecision: 0.00%\n",
      "\trecall: 0.00%\n",
      "\tfbeta: 0.000\n"
     ]
    }
   ],
   "source": [
    "print('Results for RF model:')\n",
    "print('\\taccuracy: {:.2f}%'.format(accuracy_score(y_true, rf_pred_y) * 100))\n",
    "print('\\tprecision: {:.2f}%'.format(precision_score(y_true, rf_pred_y) * 100))\n",
    "print('\\trecall: {:.2f}%'.format(recall_score(y_true, rf_pred_y) * 100))\n",
    "print('\\tfbeta: {:.3f}'.format(fbeta_score(y_true, rf_pred_y, beta=0.5)))"
   ]
  },
  {
   "cell_type": "code",
   "execution_count": 60,
   "metadata": {},
   "outputs": [
    {
     "name": "stdout",
     "output_type": "stream",
     "text": [
      "ALPHA.PA\n",
      "DIM.PA\n"
     ]
    }
   ],
   "source": [
    "for sym_idx, sym in enumerate(symbol_list):\n",
    "    if y_true[sym_idx] == 1:\n",
    "        print(sym)"
   ]
  }
 ],
 "metadata": {
  "kernelspec": {
   "display_name": "Python [conda env:root] *",
   "language": "python",
   "name": "conda-root-py"
  },
  "language_info": {
   "codemirror_mode": {
    "name": "ipython",
    "version": 3
   },
   "file_extension": ".py",
   "mimetype": "text/x-python",
   "name": "python",
   "nbconvert_exporter": "python",
   "pygments_lexer": "ipython3",
   "version": "3.7.7"
  }
 },
 "nbformat": 4,
 "nbformat_minor": 4
}
