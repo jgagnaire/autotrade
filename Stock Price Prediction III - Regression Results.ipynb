{
 "cells": [
  {
   "cell_type": "markdown",
   "metadata": {},
   "source": [
    "The best prediction seems to always be the average of predictions made with KernelRidge model, trained on the previous 10, 20 and 30 days of market data.\n",
    "\n",
    "Indeed, they obtain very good results for D+1 predictions:\n",
    "\n",
    "AI: 0.1% error  \n",
    "DBV: 4.6% error  \n",
    "ETL: 0.27% error  \n",
    "GNFT: 4.8% error  \n",
    "SAF: 0.008% error  \n",
    "\n",
    "results for D+3 preds:  \n",
    "\n",
    "AI: 3.3% error  \n",
    "DBV: 7.8% error  \n",
    "ETL: 0.5% error  \n",
    "GNFT: 1.7% error  \n",
    "SAF: 1.7% error  \n",
    "\n",
    "results for D+7 preds:  \n",
    "\n",
    "AI: 6.43% error  \n",
    "DBV: 25.08% error  \n",
    "ETL: 1.71% error  \n",
    "GNFT: 11.46% error  \n",
    "SAF: 1.12% error  "
   ]
  }
 ],
 "metadata": {
  "kernelspec": {
   "display_name": "Python [conda env:root] *",
   "language": "python",
   "name": "conda-root-py"
  },
  "language_info": {
   "codemirror_mode": {
    "name": "ipython",
    "version": 3
   },
   "file_extension": ".py",
   "mimetype": "text/x-python",
   "name": "python",
   "nbconvert_exporter": "python",
   "pygments_lexer": "ipython3",
   "version": "3.7.7"
  }
 },
 "nbformat": 4,
 "nbformat_minor": 4
}
