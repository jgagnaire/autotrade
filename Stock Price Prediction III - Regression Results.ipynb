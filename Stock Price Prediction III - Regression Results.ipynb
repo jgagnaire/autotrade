{
 "cells": [
  {
   "cell_type": "markdown",
   "metadata": {},
   "source": [
    "The best prediction seems to always be the average of predictions made with KernelRidge model, trained on the previous 10, 20 and 30 days of market data.\n",
    "\n",
    "Indeed, they obtain very good results for D+1 predictions:\n",
    "\n",
    "AI: 0.1% error  \n",
    "DBV: 4.6% error  \n",
    "ETL: 0.27% error  \n",
    "GNFT: 4.8% error  \n",
    "SAF: 0.008% error  "
   ]
  }
 ],
 "metadata": {
  "kernelspec": {
   "display_name": "Python [conda env:root] *",
   "language": "python",
   "name": "conda-root-py"
  },
  "language_info": {
   "codemirror_mode": {
    "name": "ipython",
    "version": 3
   },
   "file_extension": ".py",
   "mimetype": "text/x-python",
   "name": "python",
   "nbconvert_exporter": "python",
   "pygments_lexer": "ipython3",
   "version": "3.7.7"
  }
 },
 "nbformat": 4,
 "nbformat_minor": 4
}
